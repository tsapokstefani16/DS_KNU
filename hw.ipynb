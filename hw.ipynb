{
 "cells": [
  {
   "cell_type": "code",
   "execution_count": 5,
   "metadata": {},
   "outputs": [
    {
     "name": "stdout",
     "output_type": "stream",
     "text": [
      "list:  ['m', 'y', 'l', 'i', 's', 't'] \n",
      " tuple:  ('m', 'y', 't', 'u', 'p', 'l', 'e') \n",
      " dictionary:  {'myKey1': 'myValue1', 'myKey2': 'myValue2'}\n"
     ]
    }
   ],
   "source": [
    "# task 1\n",
    "myList = list('mylist')\n",
    "myTuple = tuple('mytuple')\n",
    "myDictionary = dict(myKey1='myValue1', myKey2='myValue2')\n",
    "\n",
    "print('list: ', myList, '\\n', 'tuple: ', myTuple, '\\n', 'dictionary: ', myDictionary)"
   ]
  },
  {
   "cell_type": "code",
   "execution_count": 9,
   "metadata": {},
   "outputs": [
    {
     "name": "stdout",
     "output_type": "stream",
     "text": [
      "0.5183166420175513\n",
      "0.3512324187342012\n",
      "2.361924394320255\n",
      "0.6033412313964549\n",
      "0.17954629336907962\n",
      "0.4694103851707748\n",
      "0.8079827430896303\n"
     ]
    }
   ],
   "source": [
    "# task 2\n",
    "import numpy as np\n",
    "s = np.random.normal(0,1,100)\n",
    "for i in range(10,20):\n",
    "    if(s[i]>0):\n",
    "        print(s[i])"
   ]
  },
  {
   "cell_type": "code",
   "execution_count": 10,
   "metadata": {},
   "outputs": [
    {
     "data": {
      "text/plain": [
       "25"
      ]
     },
     "execution_count": 10,
     "metadata": {},
     "output_type": "execute_result"
    }
   ],
   "source": [
    "# task 3\n",
    "\n",
    "def pow(x, y):\n",
    "    if y >= 50:\n",
    "        print('power is too big')\n",
    "        return -1\n",
    "    if y == 0:\n",
    "        return 1\n",
    "\n",
    "    if y >= 1:\n",
    "        return x * pow(x, y - 1)\n",
    "    \n",
    "pow(5,2)"
   ]
  },
  {
   "cell_type": "code",
   "execution_count": 13,
   "metadata": {},
   "outputs": [
    {
     "data": {
      "text/plain": [
       "[2, 3, 4]"
      ]
     },
     "execution_count": 13,
     "metadata": {},
     "output_type": "execute_result"
    }
   ],
   "source": [
    "# task 4\n",
    "\n",
    "def above(n, x = 10):\n",
    "    filtered_arr = []\n",
    "    for el in n:\n",
    "        if el < x:\n",
    "            filtered_arr.append(el)\n",
    "    return filtered_arr\n",
    "above([11,2,3,4])"
   ]
  },
  {
   "cell_type": "code",
   "execution_count": 27,
   "metadata": {},
   "outputs": [
    {
     "data": {
      "text/plain": [
       "[1, 2]"
      ]
     },
     "execution_count": 27,
     "metadata": {},
     "output_type": "execute_result"
    }
   ],
   "source": [
    "# task 5\n",
    "\n",
    "def my_ifelse(x, exp, n):\n",
    "    filtered_arr = []\n",
    "    if exp == '<':\n",
    "        for el in x:\n",
    "            if el < n:\n",
    "                filtered_arr.append(el)\n",
    "    elif exp == '>':\n",
    "        for el in x:\n",
    "            if el > n:\n",
    "                filtered_arr.append(el)\n",
    "    elif exp == '<=':\n",
    "        for el in x:\n",
    "            if el <= n:\n",
    "                filtered_arr.append(el)\n",
    "    elif exp == '>=':\n",
    "        for el in x:\n",
    "            if el >= n:\n",
    "                filtered_arr.append(el)\n",
    "    elif exp == '==':\n",
    "        for el in x:\n",
    "            if el == n:\n",
    "                filtered_arr.append(el)\n",
    "    else :\n",
    "        filterd_arr = x\n",
    "    return filtered_arr\n",
    "\n",
    "my_ifelse([1,2,3],'<=',2)"
   ]
  },
  {
   "cell_type": "code",
   "execution_count": 23,
   "metadata": {},
   "outputs": [
    {
     "data": {
      "text/plain": [
       "{'s': 1, 't': 1, 'e': 1, 'f': 1, 'a': 3}"
      ]
     },
     "execution_count": 23,
     "metadata": {},
     "output_type": "execute_result"
    }
   ],
   "source": [
    "# task 6\n",
    "\n",
    "def counter(input_string):\n",
    "    letters = {}\n",
    "    input_string = list(input_string)\n",
    "    for letter in input_string:\n",
    "        if letter in letters: \n",
    "            letters[letter]+=1\n",
    "        else:\n",
    "            letters[letter]=1\n",
    "    return letters\n",
    "\n",
    "counter('stefaaa')"
   ]
  },
  {
   "cell_type": "code",
   "execution_count": 44,
   "metadata": {},
   "outputs": [
    {
     "name": "stdout",
     "output_type": "stream",
     "text": [
      "{'a': 3, 't': 2, 's': 1, 'e': 1, 'f': 1}\n",
      "{'s': 1, 'e': 1, 'f': 1, 't': 2, 'a': 3}\n"
     ]
    }
   ],
   "source": [
    "# task 7\n",
    "import operator\n",
    "\n",
    "def counter_sorted(input_string, reverse = False):\n",
    "    if reverse:\n",
    "        return dict( sorted(counter(input_string).items(), key=operator.itemgetter(1),reverse=True))\n",
    "    else:\n",
    "        return dict(sorted(counter(input_string).items(), key=lambda item: item[1]))\n",
    "\n",
    "print(counter_sorted('sttefaaa', True))\n",
    "print(counter_sorted('sttefaaa'))"
   ]
  },
  {
   "cell_type": "code",
   "execution_count": null,
   "metadata": {},
   "outputs": [],
   "source": []
  }
 ],
 "metadata": {
  "kernelspec": {
   "display_name": "Python 3",
   "language": "python",
   "name": "python3"
  },
  "language_info": {
   "codemirror_mode": {
    "name": "ipython",
    "version": 3
   },
   "file_extension": ".py",
   "mimetype": "text/x-python",
   "name": "python",
   "nbconvert_exporter": "python",
   "pygments_lexer": "ipython3",
   "version": "3.8.3"
  }
 },
 "nbformat": 4,
 "nbformat_minor": 4
}
